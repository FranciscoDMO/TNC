{
 "cells": [
  {
   "cell_type": "markdown",
   "metadata": {},
   "source": [
    "# Teoria de Números Computacional\n"
   ]
  },
  {
   "cell_type": "markdown",
   "metadata": {},
   "source": [
    "* Bruna Araújo a84408\n",
    "* Francisco Oliveira a82066\n",
    "* Márcia Cerqueira a87992\n"
   ]
  },
  {
   "cell_type": "markdown",
   "metadata": {},
   "source": [
    "# Algoritmo de Gordan"
   ]
  },
  {
   "cell_type": "markdown",
   "metadata": {},
   "source": [
    "## Sistema RSA \n",
    "### Primos fortes"
   ]
  },
  {
   "cell_type": "markdown",
   "metadata": {
    "jupyter": {
     "outputs_hidden": false
    }
   },
   "source": [
    "\n",
    "O criptosistema RSA usa um módulo da forma n=pq, onde p e q são primos distintos. Os primos p e q devem ser de tamanho suficiente para que a fatorização do seu produto esteja para além do alcance computacional. \n",
    "\n",
    "Além disso, estes devem ser primos gerados aleatoriamente no sentido de que eles deverão ser escolhidos como uma função de entrada aleatória através de um processo que irá definir um conjunto de candidatos de cardinal suficientemente grande para que um possível ataque exaustivo seja inviável.\n",
    "\n",
    "Os primos resultantes também devem de ter um número de bits predeterminado, para atender às especificações do sistema. \n",
    "\n",
    "A descoberta do sistema RSA levou à consideração de váriaas restrições adicionais na escolha de p e q que são necessárias para garantir a segurança deste mesmo sistema, tudo isto foi feito através da noção de primo forte e do ataque criptoanalítico. \n",
    "\n",
    "Acredita-se que em relação a estes ataques, os primos fortes oferecem pouca proteção além da oferecida pelo primos aleatórios, uma vez que os primos selecionados são do tamanho tipicamente usado nos móudlos RSA, ou seja, estes irão satisfazer as restrições com alta probabilidade.\n",
    "\n",
    "Por outro lado, os primos aleatórios não são menos seguros e exigem apenas o tempo mínimo de execução adicional para serem calculados, portanto há pouco custo real adicional em usá-los."
   ]
  },
  {
   "cell_type": "markdown",
   "metadata": {},
   "source": [
    "## Funções auxiliares "
   ]
  },
  {
   "cell_type": "markdown",
   "metadata": {},
   "source": [
    "Neste trabalho iremos usar duas funções auxiliares , **_is_prime_** , que verifica se um número é primo , **_countBits_** que conta quantos bits um número tem e **_randP_** que gera um número primo com o número de bits desejado."
   ]
  },
  {
   "cell_type": "code",
   "execution_count": 1,
   "metadata": {},
   "outputs": [],
   "source": [
    "def countBits(number):\n",
    "\n",
    "    return int((math.log(number) /\n",
    "                math.log(2)) + 1);\n",
    "\n"
   ]
  },
  {
   "cell_type": "code",
   "execution_count": 2,
   "metadata": {},
   "outputs": [],
   "source": [
    "def randP (nBits):\n",
    "    p= random_prime(2^(nBits),False,2^(nBits-1))\n",
    "    return p"
   ]
  },
  {
   "cell_type": "markdown",
   "metadata": {},
   "source": [
    "### Algoritmo de Gordon"
   ]
  },
  {
   "cell_type": "markdown",
   "metadata": {},
   "source": [
    "Esta fase irá ser para implementarmos os algortimos. \n",
    "Iremos começar pela geração de dois grandes números primos aleatórios s e t com comprimento de bit aproximadamente igual, neste caso nbits/2."
   ]
  },
  {
   "cell_type": "code",
   "execution_count": 3,
   "metadata": {
    "jupyter": {
     "outputs_hidden": false
    }
   },
   "outputs": [
    {
     "data": {
      "text/plain": [
       "(722539, 788527)"
      ]
     },
     "execution_count": 3,
     "metadata": {},
     "output_type": "execute_result"
    }
   ],
   "source": [
    "import time\n",
    "\n",
    "nbits =40\n",
    "\n",
    "n1=20\n",
    "n2=20\n",
    "\n",
    "\n",
    "s=randP(n1)\n",
    "t=randP(n2)\n",
    "s,t\n"
   ]
  },
  {
   "cell_type": "markdown",
   "metadata": {
    "jupyter": {
     "outputs_hidden": false
    }
   },
   "source": [
    "De seguida iremos proceder  á implementação do algoritmo de Gordan. Neste primeiro passo , será encontrado o primeiro primo na sequência 2it+1, onde i=i0, i0+1, i0+2,.... "
   ]
  },
  {
   "cell_type": "code",
   "execution_count": 4,
   "metadata": {
    "jupyter": {
     "outputs_hidden": false
    }
   },
   "outputs": [
    {
     "data": {
      "text/plain": [
       "4731163"
      ]
     },
     "execution_count": 4,
     "metadata": {},
     "output_type": "execute_result"
    }
   ],
   "source": [
    "#2. Selecione um inteiro i0. \n",
    "# Encontre o primeiro primo na sequência 2it + 1, para i = i0, i0 +1, i0 + 2, ... .\n",
    "# Denote este primo por r = 2it + 1.\n",
    "b=True;\n",
    "i=1;\n",
    "while(b):\n",
    "    r=2*i*t+1\n",
    "    if (is_prime(r)):\n",
    "        b=False\n",
    "    else :\n",
    "        i+=1\n",
    "r\n"
   ]
  },
  {
   "cell_type": "markdown",
   "metadata": {},
   "source": [
    "Iremos agora calcular o p0 :"
   ]
  },
  {
   "cell_type": "code",
   "execution_count": 5,
   "metadata": {
    "jupyter": {
     "outputs_hidden": false
    }
   },
   "outputs": [],
   "source": [
    "#3 Calcule p0 = 2(sr−2 mod r)s − 1.\n",
    "# p0= 2*((s**(r-2)) % r )*s-1\n",
    "# p0\n",
    "n=r\n",
    "Zn=IntegerModRing(n)\n",
    "a=Zn(s)\n",
    "b=int(a^(n-2))\n",
    "p0= 2*(b)*s-1"
   ]
  },
  {
   "cell_type": "markdown",
   "metadata": {},
   "source": [
    "De seguida iremos encontrar o primeiro primo na sequência p0+2jr, onde j = j0, j0+1, j0+2, ..."
   ]
  },
  {
   "cell_type": "code",
   "execution_count": 6,
   "metadata": {
    "jupyter": {
     "outputs_hidden": false
    }
   },
   "outputs": [
    {
     "data": {
      "text/plain": [
       "11035854039845"
      ]
     },
     "execution_count": 6,
     "metadata": {},
     "output_type": "execute_result"
    }
   ],
   "source": [
    "#4 Selecione um inteiro j0. \n",
    "# Encontre o primeiro primo na sequência p0 + 2jrs, para j = j0, j0 +1, j0 + 2, ... . \n",
    "# Denote este primo por p = p0 + 2jrs.\n",
    "b=True;\n",
    "j=1;\n",
    "while(b):\n",
    "    p=p0+2*j*r*s\n",
    "    if (is_prime(r)):\n",
    "        b=False\n",
    "    else :\n",
    "        j+=1\n",
    "p"
   ]
  },
  {
   "cell_type": "raw",
   "metadata": {},
   "source": [
    "O cálculo do numero de bits no primo p que obtemos no passso anterior "
   ]
  },
  {
   "cell_type": "code",
   "execution_count": 7,
   "metadata": {
    "jupyter": {
     "outputs_hidden": false
    }
   },
   "outputs": [
    {
     "data": {
      "text/plain": [
       "44"
      ]
     },
     "execution_count": 7,
     "metadata": {},
     "output_type": "execute_result"
    }
   ],
   "source": [
    "countBits(p)"
   ]
  },
  {
   "cell_type": "markdown",
   "metadata": {},
   "source": [
    "Iremos proceder a alguns testes para verificar se o primo que obtemos é realmente um primo forte.\n",
    "\n",
    "Se todos os testes derem True, temos a prova de que se trata de um primo forte."
   ]
  },
  {
   "cell_type": "code",
   "execution_count": 8,
   "metadata": {
    "jupyter": {
     "outputs_hidden": false
    }
   },
   "outputs": [
    {
     "data": {
      "text/plain": [
       "True"
      ]
     },
     "execution_count": 8,
     "metadata": {},
     "output_type": "execute_result"
    }
   ],
   "source": [
    "p-1==p0+2*j*r*s-1"
   ]
  },
  {
   "cell_type": "code",
   "execution_count": 9,
   "metadata": {
    "jupyter": {
     "outputs_hidden": false
    }
   },
   "outputs": [
    {
     "data": {
      "text/plain": [
       "True"
      ]
     },
     "execution_count": 9,
     "metadata": {},
     "output_type": "execute_result"
    }
   ],
   "source": [
    "p+1==p0+2*j*r*s+1"
   ]
  },
  {
   "cell_type": "code",
   "execution_count": 10,
   "metadata": {
    "jupyter": {
     "outputs_hidden": false
    }
   },
   "outputs": [
    {
     "data": {
      "text/plain": [
       "True"
      ]
     },
     "execution_count": 10,
     "metadata": {},
     "output_type": "execute_result"
    }
   ],
   "source": [
    "r-1==2*i*t"
   ]
  },
  {
   "cell_type": "markdown",
   "metadata": {},
   "source": [
    "### Implementação do Algoritmo de Gordon"
   ]
  },
  {
   "cell_type": "markdown",
   "metadata": {},
   "source": [
    "Atendendo a que ao escolher cuidadosamente os tamanhos dos primos s, t podemos controlar o exato comprimento de bits do primo resultante p e que os números de bits de r e s irão ser cerca de metade de p, enquanto o comprimento de bits de t será ligeriamente menor que o de r implementamos o algoritmo de gordon de forma a que possa encontrar um número primo com o exato número de bits pertendidos ou apenas uma aproximação. "
   ]
  },
  {
   "cell_type": "code",
   "execution_count": 11,
   "metadata": {},
   "outputs": [],
   "source": [
    "def gordon(nbits,flag):\n",
    "    \n",
    "    inc=0\n",
    "    while (True):\n",
    "        n1=int((nbits/2))\n",
    "        n2=int((nbits/2))-inc\n",
    "        s=randP(n1)\n",
    "        t=randP(n2)\n",
    "        \n",
    "        i=1\n",
    "        \n",
    "        b=True;\n",
    "        \n",
    "        while(b):\n",
    "            r=2*i*t+1\n",
    "            if (is_prime(r)):\n",
    "               \n",
    "                b=False\n",
    "            else :\n",
    "                i+=1\n",
    "\n",
    "\n",
    "        Zn=IntegerModRing(r)\n",
    "        a=Zn(s)\n",
    "        b=int(a^(r-2))\n",
    "        p0= 2*(b)*s-1\n",
    "    \n",
    "        b=True;\n",
    "        j=1;\n",
    "        while(b):\n",
    "            p=p0+2*j*r*s\n",
    "            if (is_prime(r)):\n",
    "                b=False\n",
    "            else :\n",
    "                j+=1\n",
    "        \n",
    "        \n",
    "        \n",
    "        if(countBits(p)==nbits and flag):\n",
    "            print(\"um número primo com \" + str(countBits(p)) + \" bits é : \"+str(p))\n",
    "            \n",
    "            break\n",
    "        elif(flag==False):\n",
    "            print(\"um número primo com \" + str(countBits(p)) + \" bits é : \"+str(p))\n",
    "            break\n",
    "        \n",
    "        inc+=1\n",
    "        if(inc>(n1/2)):\n",
    "            inc=0\n",
    "        \n",
    "        \n",
    "    if(p-1==p0+2*j*r*s-1 and p+1==p0+2*j*r*s+1 and r-1==2*i*t):\n",
    "        print(\"e é um numero primo forte\")\n",
    "    else : \n",
    "        print(\"não é um numero primo forte\")\n",
    "    return \n",
    "        "
   ]
  },
  {
   "cell_type": "code",
   "execution_count": 12,
   "metadata": {},
   "outputs": [
    {
     "name": "stdout",
     "output_type": "stream",
     "text": [
      "um número primo com 125 bits é : 37057344620803302827003186757104829597\n",
      "e é um numero primo forte\n",
      "0.0007688999176025391 s\n"
     ]
    }
   ],
   "source": [
    "start_time = time.time()\n",
    "\n",
    "gordon(120,False)\n",
    "\n",
    "print (time.time() - start_time, 's')"
   ]
  },
  {
   "cell_type": "code",
   "execution_count": 13,
   "metadata": {},
   "outputs": [
    {
     "name": "stdout",
     "output_type": "stream",
     "text": [
      "um número primo com 120 bits é : 991163211546477569354783950650174853\n",
      "e é um numero primo forte\n",
      "0.0077855587005615234 s\n"
     ]
    }
   ],
   "source": [
    "start_time = time.time()\n",
    "\n",
    "gordon(120,True)\n",
    "\n",
    "print (time.time() - start_time, 's')"
   ]
  },
  {
   "cell_type": "code",
   "execution_count": 14,
   "metadata": {},
   "outputs": [
    {
     "name": "stdout",
     "output_type": "stream",
     "text": [
      "um número primo com 1010 bits é : 6889372113254951489615505261746602886943478881709119228857393267235269792864484665582968061721160157545203200778660558723584743639745510554314405966353323012830711155485173866538906210969508883169625959213128631561886843102891844316603029331352369068667201300961084915255068684601506770383562075615472733\n",
      "e é um numero primo forte\n",
      "0.38324594497680664 s\n"
     ]
    }
   ],
   "source": [
    "start_time = time.time()\n",
    "\n",
    "gordon(1000,False)\n",
    "\n",
    "print (time.time() - start_time, 's')"
   ]
  },
  {
   "cell_type": "code",
   "execution_count": 15,
   "metadata": {},
   "outputs": [
    {
     "name": "stdout",
     "output_type": "stream",
     "text": [
      "um número primo com 1000 bits é : 6886844276291733565907417092996900711148459776516315513093038522259009576402967124518059028894151301358569553050981740149247787857454781648237948254356542781023366992589314781710599283932200819665198574538074894204102271813447526294089609411363073148066828980603162274007358969176917517733270464957781\n",
      "e é um numero primo forte\n",
      "3.662855625152588 s\n"
     ]
    }
   ],
   "source": [
    "start_time = time.time()\n",
    "\n",
    "gordon(1000,True)\n",
    "\n",
    "print (time.time() - start_time, 's')"
   ]
  },
  {
   "cell_type": "code",
   "execution_count": null,
   "metadata": {},
   "outputs": [],
   "source": []
  }
 ],
 "metadata": {
  "kernelspec": {
   "display_name": "SageMath 9.2",
   "language": "sage",
   "name": "sagemath"
  },
  "language_info": {
   "codemirror_mode": {
    "name": "ipython",
    "version": 3
   },
   "file_extension": ".py",
   "mimetype": "text/x-python",
   "name": "python",
   "nbconvert_exporter": "python",
   "pygments_lexer": "ipython3",
   "version": "3.7.7"
  }
 },
 "nbformat": 4,
 "nbformat_minor": 4
}
