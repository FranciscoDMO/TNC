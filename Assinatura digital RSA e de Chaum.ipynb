{
 "cells": [
  {
   "cell_type": "markdown",
   "metadata": {},
   "source": [
    "# Teoria de Números Computacional\n",
    "\n"
   ]
  },
  {
   "cell_type": "markdown",
   "metadata": {},
   "source": [
    "* Bruna Araújo a84408\n",
    "* Francisco Oliveira a82066\n",
    "* Márcia Cerqueira a87992\n"
   ]
  },
  {
   "cell_type": "markdown",
   "metadata": {},
   "source": [
    "### Assinatura Digital RSA\n",
    "Uma assinatura digital é um esquema matemático para verificar a autenticidade de mensagens ou documentos digitais. Uma assinatura digital válida, onde os pré-requisitos são satisfeitos, dá ao destinatário uma razão muito forte para acreditar que a mensagem foi criada por um remetente conhecido (autenticação) e que a mensagem não foi alterada desde o envio (integridade).\n",
    "\n",
    "\n",
    "Suponhamos que a Alice usa a chave pública do Bob para enviar-lhe uma mensagem criptografada. Na mensagem, ela pode alegar ser Alice, mas o Bob não tem como verificar se a mensagem é dela, pois qualquer pessoa pode usar a chave pública do Bob para enviar mensagens criptografadas. Para verificar a origem de uma mensagem, o RSA também pode ser usado para assinar uma mensagem.\n",
    "\n",
    "Imaginemos que a Alice deseja enviar uma mensagem assinada para o Bob, ela pode usar sua própria chave privada para fazer isso, produzindo um valor hash da mensagem, elevando-o à potência de d (módulo n) (como faz ao descriptografar uma mensagem) e anexa-o como uma \"assinatura\" à mensagem. Quando o Bob recebe a mensagem assinada, ele usa o mesmo algoritmo de hash em conjunto com a chave pública de Alice, ele eleva a assinatura à potência de e (módulo n) (como faz ao criptografar uma mensagem) e compara o valor hash resultante com o valor hash da mensagem. Se os dois concordarem, ele sabe que o autor da mensagem possuía a chave privada da Alice e que a mensagem não foi adulterada desde o envio.\n"
   ]
  },
  {
   "cell_type": "markdown",
   "metadata": {},
   "source": [
    "##### Possíveis ataques à assinatura digital RSA\n",
    "- Fatorando números inteiros muito grandes\n",
    "Uma primeira abordagem de ataque ao RSA teria como objetivo a chave pública por meio da fatoração do módulo n, ou seja, dada uma fatoração n, pode-se chegar ao expoente de descriptografia. Este é um exemplo de ataque de força bruta ao RSA.\n",
    "- Módulo comum\n",
    "\n",
    "- Pequeno expoente da chave privada\n",
    "Para reduzir o tempo necessário para decrifar uma mensagem ou o tempo necessário para gerar uma assinatura pode-se tentar usar um valor de d pequeno no lugar de um d aleatório. Usando um d pequeno pode-se alcançar uma melhoria no desempenho em torno de fatores de 10 para um módulo de 1024 bits, porém várias investigações mostraram que a escolha de um d pequeno pode quebrar completamente o sistema RSA.\n",
    "\n",
    "- Pequeno expoente da chave pública\n",
    "Ataques desta natureza, ao contrário dos baseados no método anterior, não levam a uma quebra total do sistema RSA, sendo portanto menos perigosos.\n",
    "\n",
    "- Exposição parcial da chave privada\n",
    "Imaginemos que um dado utilizador teve acesso a uma parte da chave privada, de tamanho d bits. Seria possível reproduzir a restante chave d, a partir desta pequena parte? Surpreendentemente a resposta é positiva caso a chave seja pequena o suficiente.\n",
    "\n",
    "- Ataques temporais\n",
    "A maioria destes ataques não são decorrentes de falhas ou problemas matemáticos, estes ataques são chamados de ataques de implementação e procuram vulnerabilidades na implementação computacional do sistema RSA."
   ]
  },
  {
   "cell_type": "markdown",
   "metadata": {},
   "source": [
    "## Implementação do Código"
   ]
  },
  {
   "cell_type": "markdown",
   "metadata": {},
   "source": [
    "RSA key generation "
   ]
  },
  {
   "cell_type": "code",
   "execution_count": 1,
   "metadata": {},
   "outputs": [],
   "source": [
    "import hashlib\n",
    "\n",
    "def RSA_key(nbits):\n",
    "    p = random_prime(2^(nbits//2), 2^(nbits//2-1))\n",
    "    q = random_prime(2^(nbits//2+1), 2^(nbits//2))\n",
    "    n = p*q\n",
    "    m = (p-1)*(q-1)\n",
    "    e = randint(2, m-1)\n",
    "    while gcd(e, m)!=1:\n",
    "        e = randint(2, m-1)\n",
    "    d = power_mod(e, -1, m)\n",
    "    PubKey = (n,e)\n",
    "    PrivKey = d\n",
    "    \n",
    "    return PubKey, PrivKey\n"
   ]
  },
  {
   "cell_type": "code",
   "execution_count": 2,
   "metadata": {},
   "outputs": [
    {
     "data": {
      "text/plain": [
       "36906822241210867014776754913837566155108892467980493944565876131413157803075"
      ]
     },
     "execution_count": 2,
     "metadata": {},
     "output_type": "execute_result"
    }
   ],
   "source": [
    "(n ,e) , d =RSA_key(2048)\n",
    "\n",
    "\n",
    "\n",
    "HH =hashlib.sha256(b\"Nobody expects the Spanish Inquisition\").hexdigest()\n",
    "mensagem=ZZ('0x'+HH)\n",
    "\n",
    "mensagem"
   ]
  },
  {
   "cell_type": "markdown",
   "metadata": {},
   "source": [
    "$ s\\equiv m ^{d}( mod  N)$"
   ]
  },
  {
   "cell_type": "code",
   "execution_count": 3,
   "metadata": {},
   "outputs": [
    {
     "data": {
      "text/plain": [
       "(36906822241210867014776754913837566155108892467980493944565876131413157803075,\n",
       " 576285093845918607807627964219430669482248604731397923413480627429150733992126032480546412277366396167053705849794859773091202158293865164804817756746673184537833569094368011626600414729957485625149297097832954891604589277535624816562648297441148602912288466895373130907052025506202595222415917151911090554806630804452425931269110079235206875170496210738321265151313509450198594944218163489456215414438899233802598634736147550725456407434069827666190442908249750917916174550371060659118695683111886212878846963851144612944477292800687617137815583756104792608563875077762988972671286925449700524842437291483389157486)"
      ]
     },
     "execution_count": 3,
     "metadata": {},
     "output_type": "execute_result"
    }
   ],
   "source": [
    "s=int(power_mod(mensagem,d,n))\n",
    "\n",
    "\n",
    "(mensagem,s)"
   ]
  },
  {
   "cell_type": "markdown",
   "metadata": {},
   "source": [
    "$ h' \\equiv s ^{e}( mod  N)$"
   ]
  },
  {
   "cell_type": "code",
   "execution_count": 4,
   "metadata": {},
   "outputs": [
    {
     "data": {
      "text/plain": [
       "True"
      ]
     },
     "execution_count": 4,
     "metadata": {},
     "output_type": "execute_result"
    }
   ],
   "source": [
    "h1=power_mod(s,e,n)\n",
    "h1==mensagem "
   ]
  },
  {
   "cell_type": "code",
   "execution_count": 12,
   "metadata": {},
   "outputs": [],
   "source": [
    "#(n,e) pub key  d private key\n",
    "(n ,e) , d =RSA_key(2048)\n",
    "\n",
    "def sign(msg,d):\n",
    "\n",
    "    msg=msg.encode('utf-8')\n",
    "    \n",
    "    msg=hashlib.sha256(msg).hexdigest()\n",
    "    \n",
    "    mensagem=ZZ('0x'+msg)\n",
    "\n",
    "    s=int(power_mod(mensagem,d,n))\n",
    "\n",
    "\n",
    "    return (mensagem,s)\n",
    "\n",
    "mensagem , s = sign(\"adjhskdnaksdnaksdnask\",d)"
   ]
  },
  {
   "cell_type": "code",
   "execution_count": 13,
   "metadata": {},
   "outputs": [
    {
     "data": {
      "text/plain": [
       "True"
      ]
     },
     "execution_count": 13,
     "metadata": {},
     "output_type": "execute_result"
    }
   ],
   "source": [
    "def verf(m,s,PubKey):\n",
    "    h1=power_mod(s,e,n)\n",
    "    return h1\n",
    "\n",
    "verf(mensagem , s ,(n ,e) )==mensagem\n"
   ]
  },
  {
   "cell_type": "markdown",
   "metadata": {},
   "source": [
    "### Assinatura cega RSA\n",
    "Existem esquemas de assinatura cega para muitos protocolos de assinatura de chave pública. Mais formalmente, um esquema de assinatura cega é um protocolo criptográfico que envolve duas partes, uma utilizadora Alice que deseja obter assinaturas nas suas mensagens e um assinante Bob que possui a sua chave de assinatura secreta. No final do protocolo, Alice obtém a assinatura de Bob em m sem que Bob saiba nada sobre o conteúdo da mensagem, esta intuição de não aprender nada é difícil de captar em termos matemáticos. A abordagem usual é mostrar que para cada signatário (adversário), existe um simulador que pode produzir as mesmas informações que o signatário, isto é semelhante à forma como o conhecimento nulo é definido.\n",
    "\n",
    "Um dos esquemas de assinatura cega mais simples é baseado na assinatura RSA. \n",
    "Uma assinatura RSA tradicional é calculado elevando a mensagem m para o expoente segredo d módulo a módulo público N . \n",
    "A assinatura cega RSA usa um valor aleatório r , tal que r é primo a N (isto é, mdc ( r , N ) = 1). r é elevado ao expoente público e módulo N , e o valor resultante r ^e mod N é usado como um fator de disfarce(cego) . O autor da mensagem calcula o produto da mensagem e o fator de cegamento.\n"
   ]
  },
  {
   "cell_type": "markdown",
   "metadata": {},
   "source": [
    "##### Perigos da assinatura cega RSA\n"
   ]
  },
  {
   "cell_type": "markdown",
   "metadata": {},
   "source": [
    "A assinatura cega RSA pode-se tornar um perigo para o RSA, isto é, o RSA está sujeito a um possivel ataque proveniente da assinatura cega RSA, pois é possível ser induzido a descriptografar uma mensagem assinando cegamente outra mensagem. \n",
    "Como o processo de assinatura é equivalente a descriptografar com a chave secreta do signatário, um invasor pode fornecer uma versão cega de uma mensagem m criptografado com a chave pública do signatário, m´para eles assinarem. \n",
    "A mensagem criptografada normalmente seria alguma informação secreta que o invasor observou sendo enviada criptografada sob a chave pública do signatário, sobre a qual o invasor deseja obter mais informações. Quando o invasor remover a parte ofuscada da mensagem, ele terá o texto claro.\n"
   ]
  },
  {
   "cell_type": "markdown",
   "metadata": {},
   "source": [
    "### Aplicação da assinatura cega RSA\n",
    "Arranjar um valor r que seja primo relativo a n."
   ]
  },
  {
   "cell_type": "code",
   "execution_count": 16,
   "metadata": {},
   "outputs": [
    {
     "data": {
      "text/plain": [
       "5275633613093716190527760976903235569112823765876305323459066703855845398574490329093451994199502858283786196174695229547697806229842912922711974665493347552493507470020521625175368637606646576660078066807210814372002856891079989110719731313198484380865425058845981042173207704259906801553325050171473100204775101432042813670523494473855819530748035371100501553182516755385216442193641438198749264286822997243915046244401572952781692094059432223476797781900246381327497769921090566941922216881181634476391100767335815404347225227986105054422270339731388979601766246189315520466210572658009680113983911280433236880460"
      ]
     },
     "execution_count": 16,
     "metadata": {},
     "output_type": "execute_result"
    }
   ],
   "source": [
    "import random\n",
    "\n",
    "while(true):\n",
    "    \n",
    "    r=random.randint(0,n)\n",
    "    if gcd(r,n)==1 :\n",
    "        \n",
    "        break\n",
    "r"
   ]
  },
  {
   "cell_type": "markdown",
   "metadata": {},
   "source": [
    "$ m'\\equiv m * r^{e}( mod  N)$"
   ]
  },
  {
   "cell_type": "code",
   "execution_count": 8,
   "metadata": {},
   "outputs": [
    {
     "data": {
      "text/plain": [
       "10722445152481103197970092720213297882919115847456980757442974989967968633232002495517942383698224812095516867017017157564225910000131500255443828734435254568962122088709358536644794295534739018106465440413145373094390592230003919136859520388241895270876879556597642300684705355673021342711859127388731317793743556055715195848530529494081302073947562127722816943199714818052094173150546298427118547019905118873813335686046533910934301836950107015143556886398163173794592614170655678848590672937802257717919726208206344433993648437160198978310130566829779332644772924711592733788401236945969683546723353009319903995560"
      ]
     },
     "execution_count": 8,
     "metadata": {},
     "output_type": "execute_result"
    }
   ],
   "source": [
    "Zn = IntegerModRing(n)\n",
    "a=Zn(r)\n",
    "mlinha=int(mensagem*a^e)\n",
    "mlinha"
   ]
  },
  {
   "cell_type": "markdown",
   "metadata": {},
   "source": [
    "$ s'\\equiv m' ^{d}( mod  N)$"
   ]
  },
  {
   "cell_type": "code",
   "execution_count": 9,
   "metadata": {},
   "outputs": [
    {
     "data": {
      "text/plain": [
       "2416425702525618447130245837702293320617534273538566268800899721627936011907322761934264179270666309547681117070773000424506096679784735945578400352260382619586207104971736271446417785018441364328924033448951920409670390844695534174605281952400345945502526948039122460460831509147171961547560280737183686571486285301836217167848155989249775800480772262335031231825461170291408401367300773337797464596145345483291757662784460953926918130866443852522712739487001139583473625640990454232265899633160759944894414186522154526265813840106783068674442721476149311901083354005223530079466642237917812114830244390298762285206"
      ]
     },
     "execution_count": 9,
     "metadata": {},
     "output_type": "execute_result"
    }
   ],
   "source": [
    "slinha = power_mod(mlinha,d,n)\n",
    "slinha"
   ]
  },
  {
   "cell_type": "markdown",
   "metadata": {},
   "source": [
    "$ s \\equiv s' * r ^{-1}( mod  N)$"
   ]
  },
  {
   "cell_type": "code",
   "execution_count": 10,
   "metadata": {},
   "outputs": [],
   "source": [
    "Zn = IntegerModRing(n)\n",
    "aa=Zn(r)\n",
    "aa\n",
    "ss=slinha*(aa^-1)"
   ]
  },
  {
   "cell_type": "code",
   "execution_count": 11,
   "metadata": {},
   "outputs": [
    {
     "data": {
      "text/plain": [
       "True"
      ]
     },
     "execution_count": 11,
     "metadata": {},
     "output_type": "execute_result"
    }
   ],
   "source": [
    "ss==s"
   ]
  },
  {
   "cell_type": "raw",
   "metadata": {},
   "source": [
    "Logo s é a assinatura da mensagem "
   ]
  }
 ],
 "metadata": {
  "kernelspec": {
   "display_name": "SageMath 9.2",
   "language": "sage",
   "name": "sagemath"
  },
  "language_info": {
   "codemirror_mode": {
    "name": "ipython",
    "version": 3
   },
   "file_extension": ".py",
   "mimetype": "text/x-python",
   "name": "python",
   "nbconvert_exporter": "python",
   "pygments_lexer": "ipython3",
   "version": "3.7.7"
  }
 },
 "nbformat": 4,
 "nbformat_minor": 4
}
