{
 "cells": [
  {
   "cell_type": "markdown",
   "metadata": {},
   "source": [
    "# Teoria de Números Computacional\n",
    "\n"
   ]
  },
  {
   "cell_type": "markdown",
   "metadata": {},
   "source": [
    "* Bruna Araújo a84408\n",
    "* Francisco Oliveira a82066\n",
    "* Márcia Cerqueira a87992\n"
   ]
  },
  {
   "cell_type": "markdown",
   "metadata": {},
   "source": [
    "#  Esquema de assinatura ElGamal \n"
   ]
  },
  {
   "cell_type": "markdown",
   "metadata": {},
   "source": [
    "O esquem de assinatura ElGamal é um sistema de chave pública que foi concebido em 1984 e publicado em 1985 pelo egípcio Taher ElGamal \n",
    "\n",
    "Denotado como sendo um algoritmo assimétrico não comutativo cuja assimetria se baseia na dificuldade de se resolver o PLD(Problema Logaritmo Discreto), isto é, de se extrair logaritmos discretos em corpos finitos a sua implementação pode ser efetuada em qualquer grupo finito onde o PLD (Problema Logaritmo Discreto) seja intratável. É um esquema de assinatura digital baseado na dificuldade de calcular logaritmos discretos. \n",
    "\n",
    "\n",
    "O algoritmo usa um par de chaves que consiste em uma chave pública e uma chave privada. A chave privada é usada para gerar uma assinatura digital para uma mensagem, e tal assinatura pode ser verificada usando a chave pública correspondente do assinante. A assinatura digital fornece autenticação de mensagem (o destinatário pode verificar a origem da mensagem), integridade (o destinatário pode verificar se a mensagem não foi modificada desde que foi assinada) e não repúdio (o remetente não pode alegar falsamente que não assinou a mensagem)."
   ]
  },
  {
   "cell_type": "markdown",
   "metadata": {},
   "source": [
    "## Implementação do Código"
   ]
  },
  {
   "cell_type": "markdown",
   "metadata": {},
   "source": [
    "1) Vamos começar por gerar as chaves pública e privada. "
   ]
  },
  {
   "cell_type": "markdown",
   "metadata": {},
   "source": [
    "- Escolher um $p$ primo aleatório."
   ]
  },
  {
   "cell_type": "code",
   "execution_count": 1,
   "metadata": {},
   "outputs": [
    {
     "data": {
      "text/plain": [
       "2904590384121050632305945599607157252494578262405173954394670043017892729739820574803364729194573313472025253689239672459884153560184790901754758566019927"
      ]
     },
     "execution_count": 1,
     "metadata": {},
     "output_type": "execute_result"
    }
   ],
   "source": [
    "import hashlib\n",
    "\n",
    "nbits=1024\n",
    "\n",
    "p = random_prime(2^(nbits//2), 2^(nbits//2-1))\n",
    "    \n",
    "p  \n"
   ]
  },
  {
   "cell_type": "markdown",
   "metadata": {},
   "source": [
    "- Selecionar um número <b>g</b> aleatorio pertencente ao grupo multiplicativo modulo <b>p</b>."
   ]
  },
  {
   "cell_type": "code",
   "execution_count": 2,
   "metadata": {},
   "outputs": [
    {
     "name": "stdout",
     "output_type": "stream",
     "text": [
      "g:  894902188668467414321852047332245327027591763780321847083116331240536047558658229116433251743499947275703769718193746258906036776691146328948192186396557\n"
     ]
    },
    {
     "data": {
      "text/plain": [
       "True"
      ]
     },
     "execution_count": 2,
     "metadata": {},
     "output_type": "execute_result"
    }
   ],
   "source": [
    "g = randint(2,p)\n",
    "print(\"g: \", g)\n",
    "gcd (g,p) == 1"
   ]
  },
  {
   "cell_type": "markdown",
   "metadata": {},
   "source": [
    "Os parametros (p,g) do algoritmo são públicos."
   ]
  },
  {
   "cell_type": "markdown",
   "metadata": {},
   "source": [
    "- Escolher um número <b>x</b> aleatório menor que $p-1$."
   ]
  },
  {
   "cell_type": "code",
   "execution_count": 3,
   "metadata": {},
   "outputs": [
    {
     "data": {
      "text/plain": [
       "1701222081403213288469637029832667856714046241421956155675967834916316798656271540085318501815274057003333986823694646700894006614875719774621486521069162"
      ]
     },
     "execution_count": 3,
     "metadata": {},
     "output_type": "execute_result"
    }
   ],
   "source": [
    "x = randint(1, p-1)\n",
    "x"
   ]
  },
  {
   "cell_type": "markdown",
   "metadata": {},
   "source": [
    "- Calcular $y \\equiv g^x \\mod p$.\n"
   ]
  },
  {
   "cell_type": "code",
   "execution_count": 4,
   "metadata": {},
   "outputs": [
    {
     "data": {
      "text/plain": [
       "1443720638901314184268825753881614284103096417882903246679258779133818681481052323064436279603464933229060751980456644903652461721070509592071136283456211"
      ]
     },
     "execution_count": 4,
     "metadata": {},
     "output_type": "execute_result"
    }
   ],
   "source": [
    "y = power_mod(g, x, p)\n",
    "y"
   ]
  },
  {
   "cell_type": "markdown",
   "metadata": {},
   "source": [
    "E assim obtemos a chave privada e pública <b>x</b> e <b>y</b>."
   ]
  },
  {
   "cell_type": "markdown",
   "metadata": {},
   "source": [
    "2) Em seguida, especificamos o processo de assinatura de uma mensagem m.\n",
    "Para isso vamos recorrer ao hash da mensagem sugerido pelo professor."
   ]
  },
  {
   "cell_type": "code",
   "execution_count": 5,
   "metadata": {},
   "outputs": [
    {
     "data": {
      "text/plain": [
       "106649133920046447767164757284166930878040734821324164877416181438027188659086"
      ]
     },
     "execution_count": 5,
     "metadata": {},
     "output_type": "execute_result"
    }
   ],
   "source": [
    "msg = \"nobody expects the spanish inquisition\"\n",
    "\n",
    "msg=msg.encode('utf-8')\n",
    "msg=hashlib.sha256(msg).hexdigest()\n",
    "mensagem=ZZ('0x'+msg)\n",
    "\n",
    "mensagem"
   ]
  },
  {
   "cell_type": "markdown",
   "metadata": {},
   "source": [
    "- Escolher um inteiro <b>k</b> aleatorio entre 2 e p-2. Sendo <b>k</b> primo relativo com p-1."
   ]
  },
  {
   "cell_type": "code",
   "execution_count": 6,
   "metadata": {},
   "outputs": [
    {
     "name": "stdout",
     "output_type": "stream",
     "text": [
      "k : 1666589298416982196929342760497366437001027415458199411566884917538917515873973986722732413365108025271728651910833404154228201533396521475863191969572637\n",
      "True\n"
     ]
    }
   ],
   "source": [
    "k = randint(2, p-2)\n",
    "\n",
    "while(gcd(k,p-1) != 1):\n",
    "    k = randint(2, p-2)\n",
    "    \n",
    "print(\"k :\" , k)\n",
    "print(gcd(k,p-1) == 1)"
   ]
  },
  {
   "cell_type": "markdown",
   "metadata": {},
   "source": [
    "- Calcular $r \\equiv g^k \\mod p$."
   ]
  },
  {
   "cell_type": "code",
   "execution_count": 7,
   "metadata": {},
   "outputs": [
    {
     "data": {
      "text/plain": [
       "2063289866876048003671182317828223972693015691399397773063210154235936257712127666784849705124478897687896842269495952595061519025945609108389145670002942"
      ]
     },
     "execution_count": 7,
     "metadata": {},
     "output_type": "execute_result"
    }
   ],
   "source": [
    "r = power_mod(g, k, p)\n",
    "r\n"
   ]
  },
  {
   "cell_type": "markdown",
   "metadata": {},
   "source": [
    "- Calcular $s \\equiv (H_m - xr)k^{-1} \\mod p - 1$. "
   ]
  },
  {
   "cell_type": "code",
   "execution_count": 8,
   "metadata": {},
   "outputs": [
    {
     "data": {
      "text/plain": [
       "1717030734558271848524772469883919293303334369270740265376103666783808925202470999936708359861568035647161285051241442917135947701565221597020310099243222"
      ]
     },
     "execution_count": 8,
     "metadata": {},
     "output_type": "execute_result"
    }
   ],
   "source": [
    "H_m = mensagem\n",
    "\n",
    "s = ((H_m - x*r) * power_mod(k, -1, p-1)) % (p-1)\n",
    "s\n"
   ]
  },
  {
   "cell_type": "markdown",
   "metadata": {},
   "source": [
    "No caso de s = 0, devemos reiniciar o processo escolhendo outro valor para <b>k</b>. \n",
    "\n",
    "A assinatura é o par (r,s).\n",
    "\n",
    "A assinatura é valida se $0 < r < p$ e $0 < s < p - 1$"
   ]
  },
  {
   "cell_type": "code",
   "execution_count": 9,
   "metadata": {},
   "outputs": [
    {
     "name": "stdout",
     "output_type": "stream",
     "text": [
      "True\n",
      "True\n"
     ]
    }
   ],
   "source": [
    "print(r<p and r>0)\n",
    "print(s<p-1 and s>0)"
   ]
  },
  {
   "cell_type": "markdown",
   "metadata": {},
   "source": [
    "- E se $g ^ {H(m)} \\equiv y^r r^s \\mod p$"
   ]
  },
  {
   "cell_type": "code",
   "execution_count": 10,
   "metadata": {},
   "outputs": [
    {
     "data": {
      "text/plain": [
       "True"
      ]
     },
     "execution_count": 10,
     "metadata": {},
     "output_type": "execute_result"
    }
   ],
   "source": [
    "power_mod(g,H_m,p) == (power_mod(y,r,p)*power_mod(r,s,p))%p"
   ]
  }
 ],
 "metadata": {
  "kernelspec": {
   "display_name": "SageMath 9.2",
   "language": "sage",
   "name": "sagemath"
  },
  "language_info": {
   "codemirror_mode": {
    "name": "ipython",
    "version": 3
   },
   "file_extension": ".py",
   "mimetype": "text/x-python",
   "name": "python",
   "nbconvert_exporter": "python",
   "pygments_lexer": "ipython3",
   "version": "3.7.7"
  }
 },
 "nbformat": 4,
 "nbformat_minor": 4
}
