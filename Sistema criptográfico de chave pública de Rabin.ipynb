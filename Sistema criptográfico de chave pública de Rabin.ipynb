{
 "cells": [
  {
   "cell_type": "markdown",
   "metadata": {},
   "source": [
    "# Teoria de Números Computacional\n",
    "\n"
   ]
  },
  {
   "cell_type": "markdown",
   "metadata": {},
   "source": [
    "* Bruna Araújo a84408\n",
    "* Francisco Oliveira a82066\n",
    "* Márcia Cerqueira a87992\n"
   ]
  },
  {
   "cell_type": "markdown",
   "metadata": {},
   "source": [
    "## Sistema de Rabin"
   ]
  },
  {
   "cell_type": "markdown",
   "metadata": {},
   "source": [
    "Uma propriedade desejável de qualquer sistema de criptografia é uma prova de que quebrá-la é tão difícil quanto resolver um problema computacional o que é considerado difícil, tal como a fatoração de inteiros. Embora seja amplamente aceite que quebrar o criptossistema RSA é tão difícil quanto fatorização o módulo n. O sistema de criptografia da chave pública de Rabin foi o primeiro exemplo de um comprovado\n",
    "criptossistema de chave pública seguro - o problema enfrentado por um adversário passivo de recuperação de texto simples através de algum texto cifrado é computacionalmente equivalente à fatoração.\n",
    "No entanto, o criptossistema de Rabin tem a desvantagem de que cada saída da função Rbin pode ser gerada por qualquer uma das quatro entradas possíveis; se cada saída é um texto cifrafo, uma complexidade extra é necessária na descodificação para identificar qual das quatro possíveis entradas foi o verdadeiro texto em questão."
   ]
  },
  {
   "cell_type": "markdown",
   "metadata": {},
   "source": [
    "#### Funções auxiliares "
   ]
  },
  {
   "cell_type": "code",
   "execution_count": 1,
   "metadata": {},
   "outputs": [],
   "source": [
    "def bin_to_dec(b):\n",
    "    return Integer(str(b), base=2)\n"
   ]
  },
  {
   "cell_type": "code",
   "execution_count": 2,
   "metadata": {},
   "outputs": [],
   "source": [
    "def dec_to_bin(x):\n",
    "    return int(bin(x)[2:])"
   ]
  },
  {
   "cell_type": "markdown",
   "metadata": {},
   "source": [
    "#### Geração da Chave "
   ]
  },
  {
   "cell_type": "markdown",
   "metadata": {},
   "source": [
    "Como em todos os criptossistemas assimétricos, o sistema Rabin utiliza uma chave pública e uma chave privada. A chave pública é necessária para criptografar e pode ser publicada, enquanto a chave privada deve ser possuída só pelo destinatário da mensagem."
   ]
  },
  {
   "cell_type": "markdown",
   "metadata": {},
   "source": [
    "O processo preciso de geração de chave tem 3 passos:\n",
    "* Gerar dois primos grades e distintos p e q, que tenham aproximadamente o mesmo tamanho;\n",
    "* Computar n=p*q;\n",
    "* Identificar a chave pública da Alice como o n; Identificar a chave privada da Alice como (p,q)."
   ]
  },
  {
   "cell_type": "code",
   "execution_count": 3,
   "metadata": {},
   "outputs": [],
   "source": [
    "def randP (nBits):\n",
    "    p= random_prime(2^(nBits),False,2^(nBits-1))\n",
    "    r= random_prime(2^(nBits)+1,False,2^(nBits-1))\n",
    "    return p,r\n",
    "\n"
   ]
  },
  {
   "cell_type": "code",
   "execution_count": 4,
   "metadata": {},
   "outputs": [
    {
     "data": {
      "text/plain": [
       "803692506883962296246934400242587059"
      ]
     },
     "execution_count": 4,
     "metadata": {},
     "output_type": "execute_result"
    }
   ],
   "source": [
    "p,q= randP(60)\n",
    "n=p*q\n",
    "n\n"
   ]
  },
  {
   "cell_type": "markdown",
   "metadata": {},
   "source": [
    "#### Encriptação da mensagem"
   ]
  },
  {
   "cell_type": "markdown",
   "metadata": {},
   "source": [
    "O Bob irá encriptar a mensagem m para a Alice.\n",
    "* Obter a chave pública da Alice;\n",
    "* Representar a mensagem como um inteiro m;\n",
    "* Passar a mensagem para binario;\n",
    "* Criar uma redundância , neste caso duplicar a mensagem e voltar a passar para decimal;\n",
    "* Computar c=m^2 mod n;\n",
    "* Enviar a mensagem cifrada (c) para Alice."
   ]
  },
  {
   "cell_type": "code",
   "execution_count": 5,
   "metadata": {
    "jupyter": {
     "outputs_hidden": false
    }
   },
   "outputs": [
    {
     "name": "stdout",
     "output_type": "stream",
     "text": [
      "11110001001000000\n",
      "1111000100100000011110001001000000\n"
     ]
    }
   ],
   "source": [
    "mensagem = 123456\n",
    "mBits = dec_to_bin(mensagem)\n",
    "print(mBits)\n",
    "\n",
    "#duplica a msg \n",
    "m = int(str(mBits) + str(mBits))\n",
    "print(m)\n",
    "\n",
    "\n",
    "#so para verificar no final se alguma delas é a original \n",
    "t=m\n",
    "\n",
    "\n"
   ]
  },
  {
   "cell_type": "code",
   "execution_count": 6,
   "metadata": {
    "jupyter": {
     "outputs_hidden": false
    }
   },
   "outputs": [
    {
     "name": "stdout",
     "output_type": "stream",
     "text": [
      "261848977656190930944\n"
     ]
    }
   ],
   "source": [
    "m= bin_to_dec(m)\n",
    "m=m**2\n",
    "c= mod(m,n)\n",
    "print(c)\n",
    "\n"
   ]
  },
  {
   "cell_type": "code",
   "execution_count": 7,
   "metadata": {},
   "outputs": [],
   "source": [
    "def encr(mensagem , n ):\n",
    "    mBits = dec_to_bin(mensagem)\n",
    "    m = int(str(mBits) + str(mBits))\n",
    "    m= bin_to_dec(m)\n",
    "    m=m**2\n",
    "    c= mod(m,n)\n",
    "    return c "
   ]
  },
  {
   "cell_type": "code",
   "execution_count": 8,
   "metadata": {},
   "outputs": [
    {
     "data": {
      "text/plain": [
       "261848977656190930944"
      ]
     },
     "execution_count": 8,
     "metadata": {},
     "output_type": "execute_result"
    }
   ],
   "source": [
    "encr(123456 , n )"
   ]
  },
  {
   "cell_type": "markdown",
   "metadata": {},
   "source": [
    "#### Decifração da mensagem"
   ]
  },
  {
   "cell_type": "markdown",
   "metadata": {},
   "source": [
    "Para proceder a decifração da mensagem m do valor recebido c, Alice deve efetuar os seguintes passos:\n",
    "* Determinar as quatro raízes quadradas m1,m2,m3 e m4 de  c mod n ;\n",
    "* Passar as 4 raizes para binário e verificar qual delas tem a redundância escolhida \n",
    "* A partir daí deve remover a parte correspodendente à redundância e passar o binario para decimal"
   ]
  },
  {
   "cell_type": "code",
   "execution_count": 9,
   "metadata": {},
   "outputs": [
    {
     "name": "stdout",
     "output_type": "stream",
     "text": [
      "valor de m1 :\n",
      " 1111000100100000011110001001000000 \n",
      "\n",
      "valor de m2 :\n",
      " 10011000111010100110101101101000111100001110110010001001001011000110101011000110110010011000101000011010010010100001 \n",
      "\n",
      "valor de m3 :\n",
      " 100100010011101001110010110111001110010101111111001000001110001101010110110110111111101011000100100001101111000100010010 \n",
      "\n",
      "valor de m4 :\n",
      " 100110101100100100011001100100110111010010001101111010010111011000011101100010000110001110011000101001101011001101110011 \n",
      "\n"
     ]
    }
   ],
   "source": [
    "b= mod(c,n)\n",
    "\n",
    "m1,m2,m3,m4=sqrt(b,all=True)\n",
    "    \n",
    "m11=dec_to_bin(m1)\n",
    "m22=dec_to_bin(m2)\n",
    "m33=dec_to_bin(m3)\n",
    "m44=dec_to_bin(m4)\n",
    "\n",
    "\n",
    "print(\"valor de m1 :\\n\",m11,\"\\n\")\n",
    "\n",
    "print(\"valor de m2 :\\n\",m22,\"\\n\")\n",
    "\n",
    "print(\"valor de m3 :\\n\",m33,\"\\n\")\n",
    "\n",
    "print(\"valor de m4 :\\n\",m44,\"\\n\")\n"
   ]
  },
  {
   "cell_type": "code",
   "execution_count": 10,
   "metadata": {},
   "outputs": [
    {
     "name": "stdout",
     "output_type": "stream",
     "text": [
      "123456\n"
     ]
    }
   ],
   "source": [
    "chosen = str(m11)\n",
    "firstpart, secondpart = chosen[:len(chosen)/2], chosen[len(chosen)/2:]\n",
    "\n",
    "print(bin_to_dec(firstpart))"
   ]
  },
  {
   "cell_type": "code",
   "execution_count": 11,
   "metadata": {},
   "outputs": [
    {
     "name": "stdout",
     "output_type": "stream",
     "text": [
      "123456\n"
     ]
    }
   ],
   "source": [
    "def decrip(c , n):\n",
    "    s = []\n",
    "     \n",
    "    b= mod(c,n)\n",
    "\n",
    "    m1,m2,m3,m4=sqrt(b,all=True)\n",
    "    \n",
    "    m11=dec_to_bin(m1)\n",
    "    m22=dec_to_bin(m2)\n",
    "    m33=dec_to_bin(m3)\n",
    "    m44=dec_to_bin(m4)\n",
    "    \n",
    "    \n",
    "    s.append(m11)\n",
    "    s.append(m22)\n",
    "    s.append(m33)\n",
    "    s.append(m44)\n",
    "    \n",
    "    # verificar qual deles tem o parametro da duplicação \n",
    "\n",
    "    for st in s :\n",
    "        st = str(st)\n",
    "        chunks, chunk_size = len(st), len(st)//2\n",
    "        x=[ st[i:i+chunk_size] for i in range(0, chunks, chunk_size) ]\n",
    "        if(x[0]== x[1]):\n",
    "            string= x[0]\n",
    "            break \n",
    "            \n",
    "    string = bin_to_dec(int(string))\n",
    "    print(string)\n",
    "            \n",
    "    \n",
    "\n",
    "\n",
    "\n",
    "decrip(c,n)\n",
    "    \n",
    "\n",
    "    \n",
    "\n",
    "    "
   ]
  },
  {
   "cell_type": "markdown",
   "metadata": {},
   "source": [
    "#### Premissa de segurança\n"
   ]
  },
  {
   "cell_type": "markdown",
   "metadata": {},
   "source": [
    "Lembrando que os problemas de fatorar um número n e  calcular o módulo n de raízes quadradas são computacionalmente equivalentes e assumindo que a fatoração n é computacionalmente intratável podemos afirmar que o esquema de criptografia de chave pública Rabin é comprovadamente seguro contra um adversário passivo. \n",
    "Todavia, o sistema de Rabin não fornece estabilidade a um ataque de texto simples escolhido (CPA-chosen-plaintext attack).\n",
    "Um exempl de um ataque de texto simples é realizado da seguinte maneira :\n",
    "\n",
    "  * O invasor escolhe n textos simples e envia para uma máquina de criptografia. Depois de criptografar os textos enviados pelo invasor, vai proceder ao ser retorno, assim o invasor receberá os n textos já criptografados, de forma que o invasor saiba qual texto cifrado corresponde a cada texto simples. Assim com base nos pares de texto o invasor consegue extrair a chave usada pela máquina criptográfica para codificar os textos simples\n",
    "  \n",
    "Para além disso, no caso das redundâncias , o sistema de criptografia de Rabin é suscetível a ataques semelhantes aos de RSA. Até agora nunca foi provado que quebrar o RSA é tão difícil como factorizar inteiros. O sistema de Rabin, também é baseado na dificuldade de factorizar inteiros, mas em contraste com o RSA, pode ser mostrado que alguém que quebre o sistema de Rabin, pode também factorizar inteiros de uma maneira eficiente.\n",
    "\n",
    "\n",
    "\n",
    "\n",
    "\n",
    "\n",
    "\n",
    "    "
   ]
  }
 ],
 "metadata": {
  "kernelspec": {
   "display_name": "SageMath 9.2",
   "language": "sage",
   "name": "sagemath"
  },
  "language_info": {
   "codemirror_mode": {
    "name": "ipython",
    "version": 3
   },
   "file_extension": ".py",
   "mimetype": "text/x-python",
   "name": "python",
   "nbconvert_exporter": "python",
   "pygments_lexer": "ipython3",
   "version": "3.7.7"
  }
 },
 "nbformat": 4,
 "nbformat_minor": 4
}
